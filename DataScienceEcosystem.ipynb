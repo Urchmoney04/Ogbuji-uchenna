{
 "cells": [
  {
   "cell_type": "markdown",
   "id": "21bbe1bc",
   "metadata": {},
   "source": [
    "<h1> Data Science Tools and Ecosystem"
   ]
  },
  {
   "cell_type": "markdown",
   "id": "5ab498ec",
   "metadata": {},
   "source": [
    "In this notebook, Data Science Tools and Ecosystem are summarized."
   ]
  },
  {
   "cell_type": "markdown",
   "id": "1eb26395",
   "metadata": {},
   "source": [
    "Some of the popular languages that Data Scientists use are: \n",
    "    \n",
    "    1, Python \n",
    "    2, SQL \n",
    "    3, R"
   ]
  },
  {
   "cell_type": "markdown",
   "id": "3cb22662",
   "metadata": {},
   "source": [
    "Some of the commonly used libraries used by Data Scientists include: \n",
    "    \n",
    "    1, NumPy \n",
    "    2, PyTorch \n",
    "    3, Pandas \n",
    "    4, TensorFlow \n",
    "    5, caffe2"
   ]
  },
  {
   "cell_type": "markdown",
   "id": "72fbf13c",
   "metadata": {},
   "source": [
    "| Data Science Tools | \n",
    "|--------------------| \n",
    "| RStudio            |  \n",
    "| Apache Spark       | \n",
    "| Apache hadoop      |"
   ]
  },
  {
   "cell_type": "markdown",
   "id": "1803695c",
   "metadata": {},
   "source": [
    "<H3> Below are a few examples of evaluating arithmetic expressions in Python"
   ]
  },
  {
   "cell_type": "markdown",
   "id": "b622ba5f",
   "metadata": {},
   "source": [
    "This a simple arithmetic expression to mutiply then add integers."
   ]
  },
  {
   "cell_type": "code",
   "execution_count": 5,
   "id": "64359651",
   "metadata": {},
   "outputs": [
    {
     "name": "stdout",
     "output_type": "stream",
     "text": [
      "17\n"
     ]
    }
   ],
   "source": [
    "num1 = 3 \n",
    "num2 = 4 \n",
    "num3 = 5 \n",
    "\n",
    "\n",
    "total = (num1 * num2) + num3  \n",
    "print(total)"
   ]
  },
  {
   "cell_type": "markdown",
   "id": "5bedc24b",
   "metadata": {},
   "source": [
    "This will convert 200 minutes to hours by diving by 60."
   ]
  },
  {
   "cell_type": "code",
   "execution_count": 14,
   "id": "d4f4db1b",
   "metadata": {},
   "outputs": [
    {
     "data": {
      "text/plain": [
       "3.3333333333333335"
      ]
     },
     "execution_count": 14,
     "metadata": {},
     "output_type": "execute_result"
    }
   ],
   "source": [
    "200 / 60"
   ]
  },
  {
   "cell_type": "markdown",
   "id": "14dafc98",
   "metadata": {},
   "source": [
    "<H3>Objectives:"
   ]
  },
  {
   "cell_type": "markdown",
   "id": "651d4eee",
   "metadata": {},
   "source": [
    "* List popular languages for Data Science"
   ]
  },
  {
   "cell_type": "markdown",
   "id": "f5710f3a",
   "metadata": {},
   "source": [
    "* List the commonly used libraries used by Data Scientists include "
   ]
  },
  {
   "cell_type": "markdown",
   "id": "a168567b",
   "metadata": {},
   "source": [
    "* the simple arithmetic expression to mutiply then add integers"
   ]
  },
  {
   "cell_type": "markdown",
   "id": "b82dd497",
   "metadata": {},
   "source": [
    "* Data science Tools"
   ]
  },
  {
   "cell_type": "markdown",
   "id": "67a829c3",
   "metadata": {},
   "source": [
    "***AUTHOR***"
   ]
  },
  {
   "cell_type": "markdown",
   "id": "611561c5",
   "metadata": {},
   "source": [
    "OGBUJI UCHENNA N."
   ]
  },
  {
   "cell_type": "code",
   "execution_count": null,
   "id": "aab1c4c6",
   "metadata": {},
   "outputs": [],
   "source": []
  }
 ],
 "metadata": {
  "kernelspec": {
   "display_name": "Python 3 (ipykernel)",
   "language": "python",
   "name": "python3"
  },
  "language_info": {
   "codemirror_mode": {
    "name": "ipython",
    "version": 3
   },
   "file_extension": ".py",
   "mimetype": "text/x-python",
   "name": "python",
   "nbconvert_exporter": "python",
   "pygments_lexer": "ipython3",
   "version": "3.10.9"
  }
 },
 "nbformat": 4,
 "nbformat_minor": 5
}
